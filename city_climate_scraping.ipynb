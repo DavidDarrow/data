{
 "cells": [
  {
   "cell_type": "code",
   "execution_count": 114,
   "metadata": {},
   "outputs": [],
   "source": [
    "import matplotlib.pyplot as plt\n",
    "import numpy as np\n",
    "import pandas as pd\n",
    "import seaborn as sns\n",
    "import requests"
   ]
  },
  {
   "cell_type": "code",
   "execution_count": 115,
   "metadata": {},
   "outputs": [],
   "source": [
    "def screen_frames(html_tables, index=0):\n",
    "    tables = []\n",
    "    for DataFrame in html_tables:\n",
    "        try:\n",
    "            if 'Climate' in DataFrame[0][0]:\n",
    "                tables.append(DataFrame)\n",
    "        except:\n",
    "            continue\n",
    "    return tables[index]"
   ]
  },
  {
   "cell_type": "code",
   "execution_count": 116,
   "metadata": {},
   "outputs": [],
   "source": [
    "def is_metric(DataFrame):\n",
    "    #['Record high °F (°C)', 'Mean maximum °F (°C)', 'Average high °F (°C)'...], ==> °F\n",
    "    t_form = DataFrame.index.tolist()[0].split()[-2]\n",
    "    return t_form[1] == 'C'"
   ]
  },
  {
   "cell_type": "code",
   "execution_count": 117,
   "metadata": {},
   "outputs": [],
   "source": [
    "def reset_labels(DataFrame):\n",
    "    \"\"\"\n",
    "    set index to first column and headers to first row.\n",
    "    \"\"\"\n",
    "    DataFrame.columns = DataFrame.loc[1] #set columns to top row\n",
    "    DataFrame.drop(1, axis=0, inplace=True) #drop top now-redundant top row\n",
    "    DataFrame.set_index('Month', inplace=True) #set index to column 'month' and drop now-redundant column\n",
    "    del DataFrame.index.name #delete labels on index remaining from original row\n",
    "    del DataFrame.columns.name"
   ]
  },
  {
   "cell_type": "code",
   "execution_count": 118,
   "metadata": {},
   "outputs": [],
   "source": [
    "def get_clean_index(DataFrame, is_metric):\n",
    "    updated_index = []\n",
    "    for row in DataFrame.index.tolist():\n",
    "        if any(DataFrame.loc[row].str.contains('\\(')):\n",
    "            updated_index.append(remove_imperial_value(row, is_metric))\n",
    "        else:\n",
    "            updated_index.append(row)\n",
    "    \n",
    "    for index, row in enumerate(updated_index):\n",
    "        updated_index[index] = row.translate({ord('≥'):'>='}) # '≥' (ord 8805) ==> '>='\n",
    "        \n",
    "    return updated_index"
   ]
  },
  {
   "cell_type": "code",
   "execution_count": 119,
   "metadata": {},
   "outputs": [],
   "source": [
    "def remove_imperial_value(index_key, is_metric):\n",
    "    new_index = index_key.split()\n",
    "    if is_metric:\n",
    "        del new_index[-1]\n",
    "        new_index[-1] = f'({new_index[-1]})' #change °C/mm/cm to (°C)/(mm)/(cm)\n",
    "        return ' '.join(new_index)\n",
    "    else:\n",
    "        del new_index[-2]\n",
    "        return ' '.join(new_index) #metric value already in brackets"
   ]
  },
  {
   "cell_type": "code",
   "execution_count": 120,
   "metadata": {},
   "outputs": [],
   "source": [
    "def filter_imperial(city, is_metric):\n",
    "    patterns = {True: r'(.*)\\s\\(', False: r'\\((.*)\\)'}\n",
    "    pat = patterns[is_metric]\n",
    "    for row in city.index: \n",
    "        if any(city.loc[row].str.contains('\\(')):\n",
    "            city.loc[row] = city.loc[row].str.extract(pat, expand=False)"
   ]
  },
  {
   "cell_type": "code",
   "execution_count": 121,
   "metadata": {},
   "outputs": [],
   "source": [
    "def fix_numerical_formatting(string):\n",
    "    \"\"\"\n",
    "    removes formatting which is incompatible with excel and float() call.\n",
    "    '−' (ord 8722) ==> '-' (ord 45)\n",
    "    ',' ==> '' (empty character)\n",
    "    \"\"\"\n",
    "    try:\n",
    "        fixed_value = string.translate({ord('−'):'-', ord(','):''}) \n",
    "        return fixed_value\n",
    "    except AttributeError: #some cells will contain float(0)/NaN rather than strings due to 'trace' being replaced by Null by filter_imperial()\n",
    "        return 0"
   ]
  },
  {
   "cell_type": "code",
   "execution_count": 122,
   "metadata": {},
   "outputs": [],
   "source": [
    "def get_city_tables(city_name):\n",
    "    \"\"\"\n",
    "    pd.read_html(HTML_address) has an issue where it can't deal with unicode characters even if the encoding is set to\n",
    "    encoding='utf-8'. This means that it will throw an error if passed 'São_Paulo' for example. This function is a work around \n",
    "    which gets the page HTML via requests.get and passes the responce's text attribute to pd.read_html instead.\n",
    "    \"\"\"\n",
    "    return pd.read_html(requests.get(f'https://en.wikipedia.org/wiki/{city_name}').text)"
   ]
  },
  {
   "cell_type": "code",
   "execution_count": 123,
   "metadata": {},
   "outputs": [],
   "source": [
    "def get_climate_data(city_name, page_table_index=0):\n",
    "#    city_page = pd.read_html(f'https://en.wikipedia.org/wiki/{city_name}')\n",
    "    city_page = get_city_tables(city_name)\n",
    "    try:\n",
    "        print(f'processing: {city_name}')\n",
    "        city = screen_frames(city_page, page_table_index)  #pulls out the first climate table from the page HTML\n",
    "        city.dropna(inplace=True) #drops all rows with null values (i.e. descriptions)\n",
    "        reset_labels(city) #pull real headers and index labels out of dataframe\n",
    "        is_data_metric = is_metric(city)\n",
    "        city.set_index([get_clean_index(city, is_data_metric)], inplace=True) #removes imperial values from index \n",
    "        filter_imperial(city, is_data_metric) #removes all imperial secondary values in city.values\n",
    "        city = city.applymap(fix_numerical_formatting) #removes commas and fixes unicode minus signs which interfere with float()\n",
    "        city = city.applymap(float) #converts all values in the table from str to float \n",
    "        return city\n",
    "\n",
    "    except IndexError:  # screen_frames will throw an IndexError if there are no climate data tables in the wiki-page html\n",
    "        print(f'No climate data for {city_name}')"
   ]
  },
  {
   "cell_type": "code",
   "execution_count": 124,
   "metadata": {},
   "outputs": [],
   "source": [
    "cities = ['New_York_City', 'Shanghai', 'Tokyo', 'Chongqing', 'San_Francisco', 'Los_Angeles', 'Seattle', 'Manchester', 'London', 'Osaka', 'San_Diego', 'Chengdu', 'Kobe', 'Lisbon', 'Shenzhen', 'Sydney', 'Melbourne', 'Gold_Coast,_Queensland', 'Cape_Town', 'Nairobi', 'Hong_Kong', 'Washington,_D.C.', 'Frankfurt', 'Philadelphia', 'Rio_de_Janeiro', 'Houston', 'Austin', 'Kyoto', 'Dallas', 'Joshua_Tree,_California', 'Toronto', 'Detroit', 'Nagoya', 'Boston', 'Vancouver', 'Paris', 'Berlin', 'Copenhagen', 'Barcelona', 'Rome', 'Seoul', 'São_Paulo', 'Reykjavík']"
   ]
  },
  {
   "cell_type": "code",
   "execution_count": 125,
   "metadata": {},
   "outputs": [
    {
     "name": "stdout",
     "output_type": "stream",
     "text": [
      "processing: New_York_City\n",
      "processing: Shanghai\n",
      "processing: Tokyo\n",
      "processing: Chongqing\n",
      "processing: San_Francisco\n",
      "processing: Los_Angeles\n",
      "processing: Seattle\n",
      "processing: Manchester\n",
      "processing: London\n",
      "processing: Osaka\n",
      "processing: San_Diego\n",
      "processing: Chengdu\n",
      "processing: Kobe\n",
      "processing: Lisbon\n",
      "processing: Shenzhen\n",
      "processing: Sydney\n",
      "processing: Melbourne\n",
      "processing: Gold_Coast,_Queensland\n",
      "processing: Cape_Town\n",
      "processing: Nairobi\n",
      "processing: Hong_Kong\n",
      "processing: Washington,_D.C.\n",
      "processing: Frankfurt\n",
      "processing: Philadelphia\n",
      "processing: Rio_de_Janeiro\n",
      "processing: Houston\n",
      "processing: Austin\n",
      "processing: Kyoto\n",
      "processing: Dallas\n",
      "processing: Joshua_Tree,_California\n",
      "processing: Toronto\n",
      "processing: Detroit\n",
      "processing: Nagoya\n",
      "processing: Boston\n",
      "processing: Vancouver\n",
      "processing: Paris\n",
      "processing: Berlin\n",
      "processing: Copenhagen\n",
      "processing: Barcelona\n",
      "processing: Rome\n",
      "processing: Seoul\n",
      "processing: São_Paulo\n",
      "processing: Reykjavík\n",
      "processing: Chicago\n",
      "processing: Dublin\n"
     ]
    }
   ],
   "source": [
    "city_data = {city:get_climate_data(city) for city in cities} #generate dictionary {'city_name': DataFrame}\n",
    "city_data['Chicago'] = get_climate_data('Chicago', 1) #some cities have multiple climate data tables with varying amounts of data. I wanted the ones with sunshine data from Chicago and Dublin\n",
    "city_data['Dublin'] = get_climate_data('Dublin', 1)"
   ]
  },
  {
   "cell_type": "code",
   "execution_count": 131,
   "metadata": {},
   "outputs": [],
   "source": [
    "climate_data = pd.concat(city_data) #concatenate city_data into a MultiIndex df"
   ]
  },
  {
   "cell_type": "code",
   "execution_count": 133,
   "metadata": {},
   "outputs": [],
   "source": [
    "climate_data.to_csv('city_climate_data_newest.csv', encoding='utf-8')"
   ]
  },
  {
   "cell_type": "code",
   "execution_count": 134,
   "metadata": {},
   "outputs": [],
   "source": [
    "data = pd.read_csv('city_climate_data_newest.csv', encoding='utf-8', index_col=[0, 1])"
   ]
  }
 ],
 "metadata": {
  "kernelspec": {
   "display_name": "Python 3",
   "language": "python",
   "name": "python3"
  },
  "language_info": {
   "codemirror_mode": {
    "name": "ipython",
    "version": 3
   },
   "file_extension": ".py",
   "mimetype": "text/x-python",
   "name": "python",
   "nbconvert_exporter": "python",
   "pygments_lexer": "ipython3",
   "version": "3.6.0"
  }
 },
 "nbformat": 4,
 "nbformat_minor": 2
}
